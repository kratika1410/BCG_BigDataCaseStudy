{
  "nbformat": 4,
  "nbformat_minor": 0,
  "metadata": {
    "colab": {
      "provenance": []
    },
    "kernelspec": {
      "name": "python3",
      "display_name": "Python 3"
    },
    "language_info": {
      "name": "python"
    }
  },
  "cells": [
    {
      "cell_type": "code",
      "source": [
        "!pip install pyspark"
      ],
      "metadata": {
        "colab": {
          "base_uri": "https://localhost:8080/"
        },
        "id": "jhaxSbHyqnW0",
        "outputId": "c488a1be-f454-4593-c90d-6f9f0c2e3dac"
      },
      "execution_count": 46,
      "outputs": [
        {
          "output_type": "stream",
          "name": "stdout",
          "text": [
            "Requirement already satisfied: pyspark in /usr/local/lib/python3.10/dist-packages (3.5.0)\n",
            "Requirement already satisfied: py4j==0.10.9.7 in /usr/local/lib/python3.10/dist-packages (from pyspark) (0.10.9.7)\n"
          ]
        }
      ]
    },
    {
      "cell_type": "code",
      "source": [
        "from pyspark.sql import SparkSession\n",
        "from pyspark.sql.functions import col, sum, when, count, countDistinct"
      ],
      "metadata": {
        "id": "RYUaBQAXqnU_"
      },
      "execution_count": 47,
      "outputs": []
    },
    {
      "cell_type": "code",
      "source": [
        "# Initialize Spark session\n",
        "spark = SparkSession.builder.appName(\"MySparkApp\").getOrCreate()"
      ],
      "metadata": {
        "id": "Xxwww0Y-qatz"
      },
      "execution_count": 48,
      "outputs": []
    },
    {
      "cell_type": "code",
      "execution_count": 49,
      "metadata": {
        "id": "Awl7bpJfpgwL"
      },
      "outputs": [],
      "source": [
        "charges_df = spark.read.csv(\"/Charges_use.csv\", header=True, inferSchema=True)\n",
        "primary_person_df = spark.read.csv(\"/Primary_Person_use.csv\", header=True, inferSchema=True)\n",
        "units_df = spark.read.csv(\"/Units_use.csv\", header=True, inferSchema=True)\n",
        "damages_df = spark.read.csv(\"/Damages_use.csv\", header=True, inferSchema=True)\n",
        "restrict_df = spark.read.csv(\"/Restrict_use.csv\", header=True, inferSchema=True)"
      ]
    },
    {
      "cell_type": "markdown",
      "source": [
        "Analysing charges_df"
      ],
      "metadata": {
        "id": "ZmgfcptyuXM5"
      }
    },
    {
      "cell_type": "code",
      "source": [
        "#rows and columns in dataframe\n",
        "num_rows = charges_df.count()\n",
        "num_columns = len(charges_df.columns)\n",
        "\n",
        "print(f\"Number of Rows: {num_rows}\")\n",
        "print(f\"Number of Columns: {num_columns}\")"
      ],
      "metadata": {
        "colab": {
          "base_uri": "https://localhost:8080/"
        },
        "id": "mLmJSnqUu6c_",
        "outputId": "c640f777-d32e-40bd-c5c3-e5c6ec432d56"
      },
      "execution_count": 50,
      "outputs": [
        {
          "output_type": "stream",
          "name": "stdout",
          "text": [
            "Number of Rows: 116110\n",
            "Number of Columns: 5\n"
          ]
        }
      ]
    },
    {
      "cell_type": "code",
      "source": [
        "charges_df.columns"
      ],
      "metadata": {
        "colab": {
          "base_uri": "https://localhost:8080/"
        },
        "id": "6E5Y0vJtu6bC",
        "outputId": "b69dd781-7ae1-4cd8-9d19-450420c6d158"
      },
      "execution_count": 51,
      "outputs": [
        {
          "output_type": "execute_result",
          "data": {
            "text/plain": [
              "['CRASH_ID', 'UNIT_NBR', 'PRSN_NBR', 'CHARGE', 'CITATION_NBR']"
            ]
          },
          "metadata": {},
          "execution_count": 51
        }
      ]
    },
    {
      "cell_type": "code",
      "source": [
        "charges_df.printSchema()"
      ],
      "metadata": {
        "colab": {
          "base_uri": "https://localhost:8080/"
        },
        "id": "uowh50EVwLoe",
        "outputId": "570a7ad3-c565-4f9a-933e-807984150421"
      },
      "execution_count": 52,
      "outputs": [
        {
          "output_type": "stream",
          "name": "stdout",
          "text": [
            "root\n",
            " |-- CRASH_ID: integer (nullable = true)\n",
            " |-- UNIT_NBR: integer (nullable = true)\n",
            " |-- PRSN_NBR: integer (nullable = true)\n",
            " |-- CHARGE: string (nullable = true)\n",
            " |-- CITATION_NBR: string (nullable = true)\n",
            "\n"
          ]
        }
      ]
    },
    {
      "cell_type": "code",
      "source": [
        "charges_df.head(5)"
      ],
      "metadata": {
        "colab": {
          "base_uri": "https://localhost:8080/"
        },
        "id": "FpvUTNw5qart",
        "outputId": "37f068b3-3b32-4880-ac20-affc73d0b5ad"
      },
      "execution_count": 53,
      "outputs": [
        {
          "output_type": "execute_result",
          "data": {
            "text/plain": [
              "[Row(CRASH_ID=14768622, UNIT_NBR=1, PRSN_NBR=1, CHARGE='DRIVING WHILE INTOXICATED', CITATION_NBR=None),\n",
              " Row(CRASH_ID=14838637, UNIT_NBR=1, PRSN_NBR=1, CHARGE='DWI', CITATION_NBR='1600000015'),\n",
              " Row(CRASH_ID=14838641, UNIT_NBR=1, PRSN_NBR=1, CHARGE='RAN RED LIGHT SOLID (TC 544.007)', CITATION_NBR='L20440'),\n",
              " Row(CRASH_ID=14838641, UNIT_NBR=2, PRSN_NBR=1, CHARGE=\"NO DRIVER'S LICENSE (TC521.025)\", CITATION_NBR='L23141'),\n",
              " Row(CRASH_ID=14838668, UNIT_NBR=1, PRSN_NBR=1, CHARGE='DRIVING WHILE INTOXICATED', CITATION_NBR='TX4IC50SRJD3')]"
            ]
          },
          "metadata": {},
          "execution_count": 53
        }
      ]
    },
    {
      "cell_type": "code",
      "source": [
        "charges_df.describe().show(truncate=False)"
      ],
      "metadata": {
        "colab": {
          "base_uri": "https://localhost:8080/"
        },
        "id": "lsFhgtQ-wLmj",
        "outputId": "c24b07d2-a3f0-4976-814b-f88a21feb110"
      },
      "execution_count": 54,
      "outputs": [
        {
          "output_type": "stream",
          "name": "stdout",
          "text": [
            "+-------+--------------------+------------------+-------------------+----------------------------------+------------+\n",
            "|summary|CRASH_ID            |UNIT_NBR          |PRSN_NBR           |CHARGE                            |CITATION_NBR|\n",
            "+-------+--------------------+------------------+-------------------+----------------------------------+------------+\n",
            "|count  |116110              |116110            |116110             |116006                            |108751      |\n",
            "|mean   |1.5136505158556541E7|1.218491086039101 |1.002084230471105  |2.9604361677205883E7              |Infinity    |\n",
            "|stddev |184444.05375385477  |0.5257013065906133|0.07421400061798365|5.640839947287902E7               |NaN         |\n",
            "|min    |13403990            |1                 |1                  |\"\"\"ACC\"\" FAIL TO CONTROL SPEED\"   | NO INS.    |\n",
            "|max    |15738225            |12                |9                  |YURNED IMPROPERLY- WIDE RIGHT(ACC)|`38333027   |\n",
            "+-------+--------------------+------------------+-------------------+----------------------------------+------------+\n",
            "\n"
          ]
        }
      ]
    },
    {
      "cell_type": "code",
      "source": [
        "null_counts = charges_df.agg(*[\n",
        "    (sum(col(column).isNull().cast(\"int\")).alias(column + \"_null_count\"))\n",
        "    for column in charges_df.columns\n",
        "])\n",
        "null_counts.show(truncate=False)"
      ],
      "metadata": {
        "colab": {
          "base_uri": "https://localhost:8080/"
        },
        "id": "vGBD1YjzyqZG",
        "outputId": "7bd684d8-287a-4a31-bac0-4c87e1783038"
      },
      "execution_count": 55,
      "outputs": [
        {
          "output_type": "stream",
          "name": "stdout",
          "text": [
            "+-------------------+-------------------+-------------------+-----------------+-----------------------+\n",
            "|CRASH_ID_null_count|UNIT_NBR_null_count|PRSN_NBR_null_count|CHARGE_null_count|CITATION_NBR_null_count|\n",
            "+-------------------+-------------------+-------------------+-----------------+-----------------------+\n",
            "|0                  |0                  |0                  |104              |7359                   |\n",
            "+-------------------+-------------------+-------------------+-----------------+-----------------------+\n",
            "\n"
          ]
        }
      ]
    },
    {
      "cell_type": "markdown",
      "source": [
        "Analysing primary_person_df"
      ],
      "metadata": {
        "id": "q0aHbSndzmln"
      }
    },
    {
      "cell_type": "code",
      "source": [
        "#rows and columns in dataframe\n",
        "num_rows = primary_person_df.count()\n",
        "num_columns = len(primary_person_df.columns)\n",
        "\n",
        "print(f\"Number of Rows: {num_rows}\")\n",
        "print(f\"Number of Columns: {num_columns}\")"
      ],
      "metadata": {
        "colab": {
          "base_uri": "https://localhost:8080/"
        },
        "id": "JGeHWBaUyqa5",
        "outputId": "5d0697d3-fa1b-4505-afa2-5fe7262fea63"
      },
      "execution_count": 56,
      "outputs": [
        {
          "output_type": "stream",
          "name": "stdout",
          "text": [
            "Number of Rows: 156954\n",
            "Number of Columns: 32\n"
          ]
        }
      ]
    },
    {
      "cell_type": "code",
      "source": [
        "primary_person_df.columns"
      ],
      "metadata": {
        "colab": {
          "base_uri": "https://localhost:8080/"
        },
        "id": "21H0qMlmzkN4",
        "outputId": "bbf83074-ecc3-425e-966b-00782bbc1cad"
      },
      "execution_count": 57,
      "outputs": [
        {
          "output_type": "execute_result",
          "data": {
            "text/plain": [
              "['CRASH_ID',\n",
              " 'UNIT_NBR',\n",
              " 'PRSN_NBR',\n",
              " 'PRSN_TYPE_ID',\n",
              " 'PRSN_OCCPNT_POS_ID',\n",
              " 'PRSN_INJRY_SEV_ID',\n",
              " 'PRSN_AGE',\n",
              " 'PRSN_ETHNICITY_ID',\n",
              " 'PRSN_GNDR_ID',\n",
              " 'PRSN_EJCT_ID',\n",
              " 'PRSN_REST_ID',\n",
              " 'PRSN_AIRBAG_ID',\n",
              " 'PRSN_HELMET_ID',\n",
              " 'PRSN_SOL_FL',\n",
              " 'PRSN_ALC_SPEC_TYPE_ID',\n",
              " 'PRSN_ALC_RSLT_ID',\n",
              " 'PRSN_BAC_TEST_RSLT',\n",
              " 'PRSN_DRG_SPEC_TYPE_ID',\n",
              " 'PRSN_DRG_RSLT_ID',\n",
              " 'DRVR_DRG_CAT_1_ID',\n",
              " 'PRSN_DEATH_TIME',\n",
              " 'INCAP_INJRY_CNT',\n",
              " 'NONINCAP_INJRY_CNT',\n",
              " 'POSS_INJRY_CNT',\n",
              " 'NON_INJRY_CNT',\n",
              " 'UNKN_INJRY_CNT',\n",
              " 'TOT_INJRY_CNT',\n",
              " 'DEATH_CNT',\n",
              " 'DRVR_LIC_TYPE_ID',\n",
              " 'DRVR_LIC_STATE_ID',\n",
              " 'DRVR_LIC_CLS_ID',\n",
              " 'DRVR_ZIP']"
            ]
          },
          "metadata": {},
          "execution_count": 57
        }
      ]
    },
    {
      "cell_type": "code",
      "source": [
        "primary_person_df.printSchema()"
      ],
      "metadata": {
        "colab": {
          "base_uri": "https://localhost:8080/"
        },
        "id": "aGIMeQGczkPU",
        "outputId": "dc886f54-856f-4989-87c1-e5a130051a67"
      },
      "execution_count": 58,
      "outputs": [
        {
          "output_type": "stream",
          "name": "stdout",
          "text": [
            "root\n",
            " |-- CRASH_ID: integer (nullable = true)\n",
            " |-- UNIT_NBR: integer (nullable = true)\n",
            " |-- PRSN_NBR: integer (nullable = true)\n",
            " |-- PRSN_TYPE_ID: string (nullable = true)\n",
            " |-- PRSN_OCCPNT_POS_ID: string (nullable = true)\n",
            " |-- PRSN_INJRY_SEV_ID: string (nullable = true)\n",
            " |-- PRSN_AGE: string (nullable = true)\n",
            " |-- PRSN_ETHNICITY_ID: string (nullable = true)\n",
            " |-- PRSN_GNDR_ID: string (nullable = true)\n",
            " |-- PRSN_EJCT_ID: string (nullable = true)\n",
            " |-- PRSN_REST_ID: string (nullable = true)\n",
            " |-- PRSN_AIRBAG_ID: string (nullable = true)\n",
            " |-- PRSN_HELMET_ID: string (nullable = true)\n",
            " |-- PRSN_SOL_FL: string (nullable = true)\n",
            " |-- PRSN_ALC_SPEC_TYPE_ID: string (nullable = true)\n",
            " |-- PRSN_ALC_RSLT_ID: string (nullable = true)\n",
            " |-- PRSN_BAC_TEST_RSLT: string (nullable = true)\n",
            " |-- PRSN_DRG_SPEC_TYPE_ID: string (nullable = true)\n",
            " |-- PRSN_DRG_RSLT_ID: string (nullable = true)\n",
            " |-- DRVR_DRG_CAT_1_ID: string (nullable = true)\n",
            " |-- PRSN_DEATH_TIME: timestamp (nullable = true)\n",
            " |-- INCAP_INJRY_CNT: integer (nullable = true)\n",
            " |-- NONINCAP_INJRY_CNT: integer (nullable = true)\n",
            " |-- POSS_INJRY_CNT: integer (nullable = true)\n",
            " |-- NON_INJRY_CNT: integer (nullable = true)\n",
            " |-- UNKN_INJRY_CNT: integer (nullable = true)\n",
            " |-- TOT_INJRY_CNT: integer (nullable = true)\n",
            " |-- DEATH_CNT: integer (nullable = true)\n",
            " |-- DRVR_LIC_TYPE_ID: string (nullable = true)\n",
            " |-- DRVR_LIC_STATE_ID: string (nullable = true)\n",
            " |-- DRVR_LIC_CLS_ID: string (nullable = true)\n",
            " |-- DRVR_ZIP: string (nullable = true)\n",
            "\n"
          ]
        }
      ]
    },
    {
      "cell_type": "code",
      "source": [
        "primary_person_df.head(5)"
      ],
      "metadata": {
        "colab": {
          "base_uri": "https://localhost:8080/"
        },
        "id": "1S9pSJxlzkTJ",
        "outputId": "88b5c093-5170-4e4a-b310-15cdd66c2b4b"
      },
      "execution_count": 59,
      "outputs": [
        {
          "output_type": "execute_result",
          "data": {
            "text/plain": [
              "[Row(CRASH_ID=14768622, UNIT_NBR=1, PRSN_NBR=1, PRSN_TYPE_ID='DRIVER', PRSN_OCCPNT_POS_ID='FRONT LEFT', PRSN_INJRY_SEV_ID='NOT INJURED', PRSN_AGE='27', PRSN_ETHNICITY_ID='HISPANIC', PRSN_GNDR_ID='MALE', PRSN_EJCT_ID='NO', PRSN_REST_ID='NONE', PRSN_AIRBAG_ID='DEPLOYED MULTIPLE', PRSN_HELMET_ID='NOT APPLICABLE', PRSN_SOL_FL='N', PRSN_ALC_SPEC_TYPE_ID='BLOOD', PRSN_ALC_RSLT_ID='Positive', PRSN_BAC_TEST_RSLT='0.225', PRSN_DRG_SPEC_TYPE_ID='NONE', PRSN_DRG_RSLT_ID='NOT APPLICABLE', DRVR_DRG_CAT_1_ID='NOT APPLICABLE', PRSN_DEATH_TIME=None, INCAP_INJRY_CNT=0, NONINCAP_INJRY_CNT=0, POSS_INJRY_CNT=0, NON_INJRY_CNT=1, UNKN_INJRY_CNT=0, TOT_INJRY_CNT=0, DEATH_CNT=0, DRVR_LIC_TYPE_ID='DRIVER LICENSE', DRVR_LIC_STATE_ID='Texas', DRVR_LIC_CLS_ID='CLASS C', DRVR_ZIP='77357'),\n",
              " Row(CRASH_ID=14838637, UNIT_NBR=1, PRSN_NBR=1, PRSN_TYPE_ID='DRIVER', PRSN_OCCPNT_POS_ID='FRONT LEFT', PRSN_INJRY_SEV_ID='NOT INJURED', PRSN_AGE='31', PRSN_ETHNICITY_ID='WHITE', PRSN_GNDR_ID='MALE', PRSN_EJCT_ID='NO', PRSN_REST_ID='SHOULDER & LAP BELT', PRSN_AIRBAG_ID='NOT DEPLOYED', PRSN_HELMET_ID='NOT APPLICABLE', PRSN_SOL_FL='N', PRSN_ALC_SPEC_TYPE_ID='BREATH', PRSN_ALC_RSLT_ID='Positive', PRSN_BAC_TEST_RSLT='0.21', PRSN_DRG_SPEC_TYPE_ID='NONE', PRSN_DRG_RSLT_ID='NOT APPLICABLE', DRVR_DRG_CAT_1_ID='NOT APPLICABLE', PRSN_DEATH_TIME=None, INCAP_INJRY_CNT=0, NONINCAP_INJRY_CNT=0, POSS_INJRY_CNT=0, NON_INJRY_CNT=1, UNKN_INJRY_CNT=0, TOT_INJRY_CNT=0, DEATH_CNT=0, DRVR_LIC_TYPE_ID='DRIVER LICENSE', DRVR_LIC_STATE_ID='New York', DRVR_LIC_CLS_ID='OTHER/OUT OF STATE', DRVR_ZIP='13830'),\n",
              " Row(CRASH_ID=14838637, UNIT_NBR=2, PRSN_NBR=1, PRSN_TYPE_ID='DRIVER', PRSN_OCCPNT_POS_ID='FRONT LEFT', PRSN_INJRY_SEV_ID='NOT INJURED', PRSN_AGE='41', PRSN_ETHNICITY_ID='BLACK', PRSN_GNDR_ID='MALE', PRSN_EJCT_ID='NO', PRSN_REST_ID='SHOULDER & LAP BELT', PRSN_AIRBAG_ID='NOT DEPLOYED', PRSN_HELMET_ID='NOT APPLICABLE', PRSN_SOL_FL='N', PRSN_ALC_SPEC_TYPE_ID='NONE', PRSN_ALC_RSLT_ID='NA', PRSN_BAC_TEST_RSLT='NA', PRSN_DRG_SPEC_TYPE_ID='NONE', PRSN_DRG_RSLT_ID='NOT APPLICABLE', DRVR_DRG_CAT_1_ID='NOT APPLICABLE', PRSN_DEATH_TIME=None, INCAP_INJRY_CNT=0, NONINCAP_INJRY_CNT=0, POSS_INJRY_CNT=0, NON_INJRY_CNT=1, UNKN_INJRY_CNT=0, TOT_INJRY_CNT=0, DEATH_CNT=0, DRVR_LIC_TYPE_ID='COMMERCIAL DRIVER LIC.', DRVR_LIC_STATE_ID='Texas', DRVR_LIC_CLS_ID='CLASS A', DRVR_ZIP='78934'),\n",
              " Row(CRASH_ID=14838641, UNIT_NBR=1, PRSN_NBR=1, PRSN_TYPE_ID='DRIVER', PRSN_OCCPNT_POS_ID='FRONT LEFT', PRSN_INJRY_SEV_ID='POSSIBLE INJURY', PRSN_AGE='32', PRSN_ETHNICITY_ID='WHITE', PRSN_GNDR_ID='MALE', PRSN_EJCT_ID='NO', PRSN_REST_ID='SHOULDER & LAP BELT', PRSN_AIRBAG_ID='DEPLOYED MULTIPLE', PRSN_HELMET_ID='NOT APPLICABLE', PRSN_SOL_FL='N', PRSN_ALC_SPEC_TYPE_ID='NONE', PRSN_ALC_RSLT_ID='NA', PRSN_BAC_TEST_RSLT='NA', PRSN_DRG_SPEC_TYPE_ID='NONE', PRSN_DRG_RSLT_ID='NOT APPLICABLE', DRVR_DRG_CAT_1_ID='NOT APPLICABLE', PRSN_DEATH_TIME=None, INCAP_INJRY_CNT=0, NONINCAP_INJRY_CNT=0, POSS_INJRY_CNT=1, NON_INJRY_CNT=0, UNKN_INJRY_CNT=0, TOT_INJRY_CNT=1, DEATH_CNT=0, DRVR_LIC_TYPE_ID='DRIVER LICENSE', DRVR_LIC_STATE_ID='Texas', DRVR_LIC_CLS_ID='CLASS C', DRVR_ZIP='76520'),\n",
              " Row(CRASH_ID=14838641, UNIT_NBR=2, PRSN_NBR=1, PRSN_TYPE_ID='DRIVER', PRSN_OCCPNT_POS_ID='FRONT LEFT', PRSN_INJRY_SEV_ID='NON-INCAPACITATING INJURY', PRSN_AGE='34', PRSN_ETHNICITY_ID='BLACK', PRSN_GNDR_ID='FEMALE', PRSN_EJCT_ID='NO', PRSN_REST_ID='SHOULDER & LAP BELT', PRSN_AIRBAG_ID='DEPLOYED MULTIPLE', PRSN_HELMET_ID='NOT APPLICABLE', PRSN_SOL_FL='N', PRSN_ALC_SPEC_TYPE_ID='NONE', PRSN_ALC_RSLT_ID='NA', PRSN_BAC_TEST_RSLT='NA', PRSN_DRG_SPEC_TYPE_ID='NONE', PRSN_DRG_RSLT_ID='NOT APPLICABLE', DRVR_DRG_CAT_1_ID='NOT APPLICABLE', PRSN_DEATH_TIME=None, INCAP_INJRY_CNT=0, NONINCAP_INJRY_CNT=1, POSS_INJRY_CNT=0, NON_INJRY_CNT=0, UNKN_INJRY_CNT=0, TOT_INJRY_CNT=1, DEATH_CNT=0, DRVR_LIC_TYPE_ID='ID CARD', DRVR_LIC_STATE_ID='Texas', DRVR_LIC_CLS_ID='UNLICENSED', DRVR_ZIP='76707')]"
            ]
          },
          "metadata": {},
          "execution_count": 59
        }
      ]
    },
    {
      "cell_type": "code",
      "source": [
        "primary_person_df.describe().show(truncate=False)"
      ],
      "metadata": {
        "colab": {
          "base_uri": "https://localhost:8080/"
        },
        "id": "EilnQeRVzkUt",
        "outputId": "7c1ec8c5-23d3-4ef5-c84d-1ca750dee978"
      },
      "execution_count": 60,
      "outputs": [
        {
          "output_type": "stream",
          "name": "stdout",
          "text": [
            "+-------+--------------------+------------------+--------+------------+------------------+---------------------+------------------+---------------------------+------------+------------+------------------+-----------------+----------------+-----------+---------------------+----------------+-------------------+---------------------+----------------+-----------------+--------------------+-------------------+-------------------+-------------------+--------------------+-------------------+---------------------+----------------------+-----------------+---------------+------------------+\n",
            "|summary|CRASH_ID            |UNIT_NBR          |PRSN_NBR|PRSN_TYPE_ID|PRSN_OCCPNT_POS_ID|PRSN_INJRY_SEV_ID    |PRSN_AGE          |PRSN_ETHNICITY_ID          |PRSN_GNDR_ID|PRSN_EJCT_ID|PRSN_REST_ID      |PRSN_AIRBAG_ID   |PRSN_HELMET_ID  |PRSN_SOL_FL|PRSN_ALC_SPEC_TYPE_ID|PRSN_ALC_RSLT_ID|PRSN_BAC_TEST_RSLT |PRSN_DRG_SPEC_TYPE_ID|PRSN_DRG_RSLT_ID|DRVR_DRG_CAT_1_ID|INCAP_INJRY_CNT     |NONINCAP_INJRY_CNT |POSS_INJRY_CNT     |NON_INJRY_CNT      |UNKN_INJRY_CNT      |TOT_INJRY_CNT      |DEATH_CNT            |DRVR_LIC_TYPE_ID      |DRVR_LIC_STATE_ID|DRVR_LIC_CLS_ID|DRVR_ZIP          |\n",
            "+-------+--------------------+------------------+--------+------------+------------------+---------------------+------------------+---------------------------+------------+------------+------------------+-----------------+----------------+-----------+---------------------+----------------+-------------------+---------------------+----------------+-----------------+--------------------+-------------------+-------------------+-------------------+--------------------+-------------------+---------------------+----------------------+-----------------+---------------+------------------+\n",
            "|count  |156954              |156954            |156954  |156954      |156954            |156954               |156954            |156954                     |156954      |156954      |156954            |156954           |156954          |156935     |156954               |156954          |156954             |156954               |156954          |156954           |156954              |156954             |156954             |156954             |156954              |156954             |156954               |156954                |156954           |156954         |152528            |\n",
            "|mean   |1.5131610053104732E7|1.596958344483097 |1.0     |NULL        |NULL              |NULL                 |37.754634530479464|NULL                       |NULL        |NULL        |NULL              |NULL             |NULL            |NULL       |NULL                 |NULL            |0.1583229406769381 |NULL                 |NULL            |NULL             |0.017036838819017037|0.0754998279750755 |0.11947449571211947|0.7693464327127694 |0.017075066580017076|0.21201116250621202|0.0015673382010015673|NULL                  |NULL             |NULL           |4362878.709800883 |\n",
            "|stddev |182469.23587122656  |0.7714696071029697|0.0     |NULL        |NULL              |NULL                 |15.986267514113166|NULL                       |NULL        |NULL        |NULL              |NULL             |NULL            |NULL       |NULL                 |NULL            |0.08314855912306268|NULL                 |NULL            |NULL             |0.1294090091151291  |0.26419698837686545|0.32434705309740497|0.42125245375435233|0.12955159441182523 |0.408734013619526  |0.039558711080482103 |NULL                  |NULL             |NULL           |5.72141320087075E7|\n",
            "|min    |13403990            |1                 |1       |DRIVER      |CARGO AREA        |INCAPACITATING INJURY|1                 |AMER. INDIAN/ALASKAN NATIVE|FEMALE      |NA          |CHILD BOOSTER SEAT|DEPLOYED MULTIPLE|NOT APPLICABLE  |N          |BLOOD                |NA              |0                  |BLOOD                |NA              |CANNABIS         |0                   |0                  |0                  |0                  |0                   |0                  |0                    |COMMERCIAL DRIVER LIC.|Alabama          |CLASS A        |00000             |\n",
            "|max    |15738225            |14                |1       |UNKNOWN     |UNKNOWN           |UNKNOWN              |NA                |WHITE                      |UNKNOWN     |YES, PARTIAL|UNKNOWN           |UNKNOWN          |WORN, UNK DAMAGE|Y          |URINE                |Positive        |NA                 |URINE                |UNKNOWN         |UNKNOWN          |1                   |1                  |1                  |1                  |1                   |1                  |1                    |UNLICENSED            |Wyoming          |UNLICENSED     |unknown           |\n",
            "+-------+--------------------+------------------+--------+------------+------------------+---------------------+------------------+---------------------------+------------+------------+------------------+-----------------+----------------+-----------+---------------------+----------------+-------------------+---------------------+----------------+-----------------+--------------------+-------------------+-------------------+-------------------+--------------------+-------------------+---------------------+----------------------+-----------------+---------------+------------------+\n",
            "\n"
          ]
        }
      ]
    },
    {
      "cell_type": "code",
      "source": [
        "null_counts = primary_person_df.agg(*[\n",
        "    (sum(col(column).isNull().cast(\"int\")).alias(column + \"_null_count\"))\n",
        "    for column in primary_person_df.columns\n",
        "])\n",
        "null_counts.show(truncate=False)"
      ],
      "metadata": {
        "colab": {
          "base_uri": "https://localhost:8080/"
        },
        "id": "w2k2ldOJzkZc",
        "outputId": "8f263fb9-192e-4d42-ab22-71cc7fd7204f"
      },
      "execution_count": 61,
      "outputs": [
        {
          "output_type": "stream",
          "name": "stdout",
          "text": [
            "+-------------------+-------------------+-------------------+-----------------------+-----------------------------+----------------------------+-------------------+----------------------------+-----------------------+-----------------------+-----------------------+-------------------------+-------------------------+----------------------+--------------------------------+---------------------------+-----------------------------+--------------------------------+---------------------------+----------------------------+--------------------------+--------------------------+-----------------------------+-------------------------+------------------------+-------------------------+------------------------+--------------------+---------------------------+----------------------------+--------------------------+-------------------+\n",
            "|CRASH_ID_null_count|UNIT_NBR_null_count|PRSN_NBR_null_count|PRSN_TYPE_ID_null_count|PRSN_OCCPNT_POS_ID_null_count|PRSN_INJRY_SEV_ID_null_count|PRSN_AGE_null_count|PRSN_ETHNICITY_ID_null_count|PRSN_GNDR_ID_null_count|PRSN_EJCT_ID_null_count|PRSN_REST_ID_null_count|PRSN_AIRBAG_ID_null_count|PRSN_HELMET_ID_null_count|PRSN_SOL_FL_null_count|PRSN_ALC_SPEC_TYPE_ID_null_count|PRSN_ALC_RSLT_ID_null_count|PRSN_BAC_TEST_RSLT_null_count|PRSN_DRG_SPEC_TYPE_ID_null_count|PRSN_DRG_RSLT_ID_null_count|DRVR_DRG_CAT_1_ID_null_count|PRSN_DEATH_TIME_null_count|INCAP_INJRY_CNT_null_count|NONINCAP_INJRY_CNT_null_count|POSS_INJRY_CNT_null_count|NON_INJRY_CNT_null_count|UNKN_INJRY_CNT_null_count|TOT_INJRY_CNT_null_count|DEATH_CNT_null_count|DRVR_LIC_TYPE_ID_null_count|DRVR_LIC_STATE_ID_null_count|DRVR_LIC_CLS_ID_null_count|DRVR_ZIP_null_count|\n",
            "+-------------------+-------------------+-------------------+-----------------------+-----------------------------+----------------------------+-------------------+----------------------------+-----------------------+-----------------------+-----------------------+-------------------------+-------------------------+----------------------+--------------------------------+---------------------------+-----------------------------+--------------------------------+---------------------------+----------------------------+--------------------------+--------------------------+-----------------------------+-------------------------+------------------------+-------------------------+------------------------+--------------------+---------------------------+----------------------------+--------------------------+-------------------+\n",
            "|0                  |0                  |0                  |0                      |0                            |0                           |0                  |0                           |0                      |0                      |0                      |0                        |0                        |19                    |0                               |0                          |0                            |0                               |0                          |0                           |156708                    |0                         |0                            |0                        |0                       |0                        |0                       |0                   |0                          |0                           |0                         |4426               |\n",
            "+-------------------+-------------------+-------------------+-----------------------+-----------------------------+----------------------------+-------------------+----------------------------+-----------------------+-----------------------+-----------------------+-------------------------+-------------------------+----------------------+--------------------------------+---------------------------+-----------------------------+--------------------------------+---------------------------+----------------------------+--------------------------+--------------------------+-----------------------------+-------------------------+------------------------+-------------------------+------------------------+--------------------+---------------------------+----------------------------+--------------------------+-------------------+\n",
            "\n"
          ]
        }
      ]
    },
    {
      "cell_type": "markdown",
      "source": [
        "Analysing units_df"
      ],
      "metadata": {
        "id": "0cpMbB2304Q1"
      }
    },
    {
      "cell_type": "code",
      "source": [
        "#rows and columns in dataframe\n",
        "num_rows = units_df.count()\n",
        "num_columns = len(units_df.columns)\n",
        "\n",
        "print(f\"Number of Rows: {num_rows}\")\n",
        "print(f\"Number of Columns: {num_columns}\")"
      ],
      "metadata": {
        "colab": {
          "base_uri": "https://localhost:8080/"
        },
        "id": "6kchXr1M00S-",
        "outputId": "4bdb9b29-be9c-4e43-99da-dff2a0f5d30a"
      },
      "execution_count": 62,
      "outputs": [
        {
          "output_type": "stream",
          "name": "stdout",
          "text": [
            "Number of Rows: 173499\n",
            "Number of Columns: 37\n"
          ]
        }
      ]
    },
    {
      "cell_type": "code",
      "source": [
        "units_df.columns"
      ],
      "metadata": {
        "colab": {
          "base_uri": "https://localhost:8080/"
        },
        "id": "0eHZRnSl00Uv",
        "outputId": "b053e14e-4853-4588-ab16-866e8178e3a4"
      },
      "execution_count": 63,
      "outputs": [
        {
          "output_type": "execute_result",
          "data": {
            "text/plain": [
              "['CRASH_ID',\n",
              " 'UNIT_NBR',\n",
              " 'UNIT_DESC_ID',\n",
              " 'VEH_PARKED_FL',\n",
              " 'VEH_HNR_FL',\n",
              " 'VEH_LIC_STATE_ID',\n",
              " 'VIN',\n",
              " 'VEH_MOD_YEAR',\n",
              " 'VEH_COLOR_ID',\n",
              " 'VEH_MAKE_ID',\n",
              " 'VEH_MOD_ID',\n",
              " 'VEH_BODY_STYL_ID',\n",
              " 'EMER_RESPNDR_FL',\n",
              " 'OWNR_ZIP',\n",
              " 'FIN_RESP_PROOF_ID',\n",
              " 'FIN_RESP_TYPE_ID',\n",
              " 'VEH_DMAG_AREA_1_ID',\n",
              " 'VEH_DMAG_SCL_1_ID',\n",
              " 'FORCE_DIR_1_ID',\n",
              " 'VEH_DMAG_AREA_2_ID',\n",
              " 'VEH_DMAG_SCL_2_ID',\n",
              " 'FORCE_DIR_2_ID',\n",
              " 'VEH_INVENTORIED_FL',\n",
              " 'VEH_TRANSP_NAME',\n",
              " 'VEH_TRANSP_DEST',\n",
              " 'CONTRIB_FACTR_1_ID',\n",
              " 'CONTRIB_FACTR_2_ID',\n",
              " 'CONTRIB_FACTR_P1_ID',\n",
              " 'VEH_TRVL_DIR_ID',\n",
              " 'FIRST_HARM_EVT_INV_ID',\n",
              " 'INCAP_INJRY_CNT',\n",
              " 'NONINCAP_INJRY_CNT',\n",
              " 'POSS_INJRY_CNT',\n",
              " 'NON_INJRY_CNT',\n",
              " 'UNKN_INJRY_CNT',\n",
              " 'TOT_INJRY_CNT',\n",
              " 'DEATH_CNT']"
            ]
          },
          "metadata": {},
          "execution_count": 63
        }
      ]
    },
    {
      "cell_type": "code",
      "source": [
        "units_df.printSchema()"
      ],
      "metadata": {
        "colab": {
          "base_uri": "https://localhost:8080/"
        },
        "id": "A-qLOVb600lu",
        "outputId": "b77c74db-76dd-45f4-f2a7-ccf979ad08fe"
      },
      "execution_count": 64,
      "outputs": [
        {
          "output_type": "stream",
          "name": "stdout",
          "text": [
            "root\n",
            " |-- CRASH_ID: integer (nullable = true)\n",
            " |-- UNIT_NBR: integer (nullable = true)\n",
            " |-- UNIT_DESC_ID: string (nullable = true)\n",
            " |-- VEH_PARKED_FL: string (nullable = true)\n",
            " |-- VEH_HNR_FL: string (nullable = true)\n",
            " |-- VEH_LIC_STATE_ID: string (nullable = true)\n",
            " |-- VIN: string (nullable = true)\n",
            " |-- VEH_MOD_YEAR: string (nullable = true)\n",
            " |-- VEH_COLOR_ID: string (nullable = true)\n",
            " |-- VEH_MAKE_ID: string (nullable = true)\n",
            " |-- VEH_MOD_ID: string (nullable = true)\n",
            " |-- VEH_BODY_STYL_ID: string (nullable = true)\n",
            " |-- EMER_RESPNDR_FL: string (nullable = true)\n",
            " |-- OWNR_ZIP: string (nullable = true)\n",
            " |-- FIN_RESP_PROOF_ID: string (nullable = true)\n",
            " |-- FIN_RESP_TYPE_ID: string (nullable = true)\n",
            " |-- VEH_DMAG_AREA_1_ID: string (nullable = true)\n",
            " |-- VEH_DMAG_SCL_1_ID: string (nullable = true)\n",
            " |-- FORCE_DIR_1_ID: string (nullable = true)\n",
            " |-- VEH_DMAG_AREA_2_ID: string (nullable = true)\n",
            " |-- VEH_DMAG_SCL_2_ID: string (nullable = true)\n",
            " |-- FORCE_DIR_2_ID: string (nullable = true)\n",
            " |-- VEH_INVENTORIED_FL: string (nullable = true)\n",
            " |-- VEH_TRANSP_NAME: string (nullable = true)\n",
            " |-- VEH_TRANSP_DEST: string (nullable = true)\n",
            " |-- CONTRIB_FACTR_1_ID: string (nullable = true)\n",
            " |-- CONTRIB_FACTR_2_ID: string (nullable = true)\n",
            " |-- CONTRIB_FACTR_P1_ID: string (nullable = true)\n",
            " |-- VEH_TRVL_DIR_ID: string (nullable = true)\n",
            " |-- FIRST_HARM_EVT_INV_ID: string (nullable = true)\n",
            " |-- INCAP_INJRY_CNT: integer (nullable = true)\n",
            " |-- NONINCAP_INJRY_CNT: integer (nullable = true)\n",
            " |-- POSS_INJRY_CNT: integer (nullable = true)\n",
            " |-- NON_INJRY_CNT: integer (nullable = true)\n",
            " |-- UNKN_INJRY_CNT: integer (nullable = true)\n",
            " |-- TOT_INJRY_CNT: integer (nullable = true)\n",
            " |-- DEATH_CNT: integer (nullable = true)\n",
            "\n"
          ]
        }
      ]
    },
    {
      "cell_type": "code",
      "source": [
        "units_df.head(5)"
      ],
      "metadata": {
        "colab": {
          "base_uri": "https://localhost:8080/"
        },
        "id": "vivqREjI00nZ",
        "outputId": "b252d7a2-2d06-46ae-baea-93e748457363"
      },
      "execution_count": 65,
      "outputs": [
        {
          "output_type": "execute_result",
          "data": {
            "text/plain": [
              "[Row(CRASH_ID=14768622, UNIT_NBR=1, UNIT_DESC_ID='MOTOR VEHICLE', VEH_PARKED_FL='N', VEH_HNR_FL='N', VEH_LIC_STATE_ID='TX', VIN='4S2CK57D1X4381118', VEH_MOD_YEAR='1999', VEH_COLOR_ID='GRY', VEH_MAKE_ID='ISUZU', VEH_MOD_ID='AMIGO', VEH_BODY_STYL_ID='PASSENGER CAR, 4-DOOR', EMER_RESPNDR_FL='Y', OWNR_ZIP='77357', FIN_RESP_PROOF_ID='2', FIN_RESP_TYPE_ID='NA', VEH_DMAG_AREA_1_ID='FRONT END DAMAGE CONCENTRATED IMPACT', VEH_DMAG_SCL_1_ID='DAMAGED 3', FORCE_DIR_1_ID='1', VEH_DMAG_AREA_2_ID='LEFT SIDE AND TOP DAMAGE ROLLOVER EFFECTS', VEH_DMAG_SCL_2_ID='DAMAGED 4', FORCE_DIR_2_ID='3', VEH_INVENTORIED_FL='Y', VEH_TRANSP_NAME='VALENTIN TOWING', VEH_TRANSP_DEST='20288 FM 1314 PORTER, TX', CONTRIB_FACTR_1_ID='UNDER INFLUENCE - ALCOHOL', CONTRIB_FACTR_2_ID='NA', CONTRIB_FACTR_P1_ID='NA', VEH_TRVL_DIR_ID='EAST', FIRST_HARM_EVT_INV_ID='Y', INCAP_INJRY_CNT=0, NONINCAP_INJRY_CNT=0, POSS_INJRY_CNT=0, NON_INJRY_CNT=1, UNKN_INJRY_CNT=0, TOT_INJRY_CNT=0, DEATH_CNT=0),\n",
              " Row(CRASH_ID=14838637, UNIT_NBR=1, UNIT_DESC_ID='MOTOR VEHICLE', VEH_PARKED_FL='N', VEH_HNR_FL='N', VEH_LIC_STATE_ID='TX', VIN='WVWAN7AN6DE536582', VEH_MOD_YEAR='NA', VEH_COLOR_ID='GRY', VEH_MAKE_ID='VOLKSWAGEN', VEH_MOD_ID='CC', VEH_BODY_STYL_ID='PASSENGER CAR, 4-DOOR', EMER_RESPNDR_FL='N', OWNR_ZIP='13830', FIN_RESP_PROOF_ID='1', FIN_RESP_TYPE_ID='PROOF OF LIABILITY INSURANCE', VEH_DMAG_AREA_1_ID='FRONT END DAMAGE DISTRIBUTED IMPACT', VEH_DMAG_SCL_1_ID='DAMAGED 3', FORCE_DIR_1_ID='12', VEH_DMAG_AREA_2_ID='NA', VEH_DMAG_SCL_2_ID='NA', FORCE_DIR_2_ID='NA', VEH_INVENTORIED_FL='N', VEH_TRANSP_NAME='A-1 TOWING', VEH_TRANSP_DEST='4710 ELLEN TROUT', CONTRIB_FACTR_1_ID='HAD BEEN DRINKING', CONTRIB_FACTR_2_ID='NA', CONTRIB_FACTR_P1_ID='NA', VEH_TRVL_DIR_ID='SOUTH', FIRST_HARM_EVT_INV_ID='Y', INCAP_INJRY_CNT=0, NONINCAP_INJRY_CNT=0, POSS_INJRY_CNT=0, NON_INJRY_CNT=1, UNKN_INJRY_CNT=0, TOT_INJRY_CNT=0, DEATH_CNT=0),\n",
              " Row(CRASH_ID=14838637, UNIT_NBR=2, UNIT_DESC_ID='MOTOR VEHICLE', VEH_PARKED_FL='N', VEH_HNR_FL='N', VEH_LIC_STATE_ID='TX', VIN='1FUJA6CG24LM14889', VEH_MOD_YEAR='2004', VEH_COLOR_ID='RED', VEH_MAKE_ID='FREIGHTLINER', VEH_MOD_ID='NA', VEH_BODY_STYL_ID='TRUCK', EMER_RESPNDR_FL='N', OWNR_ZIP='78934', FIN_RESP_PROOF_ID='1', FIN_RESP_TYPE_ID='PROOF OF LIABILITY INSURANCE', VEH_DMAG_AREA_1_ID='RIGHT SIDE DAMAGE ANGULAR IMPACT', VEH_DMAG_SCL_1_ID='DAMAGED 2', FORCE_DIR_1_ID='3', VEH_DMAG_AREA_2_ID='NA', VEH_DMAG_SCL_2_ID='NA', FORCE_DIR_2_ID='NA', VEH_INVENTORIED_FL='N', VEH_TRANSP_NAME='DRIVEN AWAY', VEH_TRANSP_DEST='BY DRIVER', CONTRIB_FACTR_1_ID='NONE', CONTRIB_FACTR_2_ID='NA', CONTRIB_FACTR_P1_ID='NA', VEH_TRVL_DIR_ID='SOUTH', FIRST_HARM_EVT_INV_ID='Y', INCAP_INJRY_CNT=0, NONINCAP_INJRY_CNT=0, POSS_INJRY_CNT=0, NON_INJRY_CNT=1, UNKN_INJRY_CNT=0, TOT_INJRY_CNT=0, DEATH_CNT=0),\n",
              " Row(CRASH_ID=14838637, UNIT_NBR=2, UNIT_DESC_ID='MOTOR VEHICLE', VEH_PARKED_FL='N', VEH_HNR_FL='N', VEH_LIC_STATE_ID='TX', VIN='1FUJA6CG24LM14889', VEH_MOD_YEAR='2004', VEH_COLOR_ID='RED', VEH_MAKE_ID='FREIGHTLINER', VEH_MOD_ID='NA', VEH_BODY_STYL_ID='TRUCK', EMER_RESPNDR_FL='N', OWNR_ZIP='78934', FIN_RESP_PROOF_ID='1', FIN_RESP_TYPE_ID='PROOF OF LIABILITY INSURANCE', VEH_DMAG_AREA_1_ID='RIGHT SIDE DAMAGE ANGULAR IMPACT', VEH_DMAG_SCL_1_ID='DAMAGED 2', FORCE_DIR_1_ID='3', VEH_DMAG_AREA_2_ID='NA', VEH_DMAG_SCL_2_ID='NA', FORCE_DIR_2_ID='NA', VEH_INVENTORIED_FL='N', VEH_TRANSP_NAME='DRIVEN AWAY', VEH_TRANSP_DEST='BY DRIVER', CONTRIB_FACTR_1_ID='NONE', CONTRIB_FACTR_2_ID='NA', CONTRIB_FACTR_P1_ID='NA', VEH_TRVL_DIR_ID='SOUTH', FIRST_HARM_EVT_INV_ID='Y', INCAP_INJRY_CNT=0, NONINCAP_INJRY_CNT=0, POSS_INJRY_CNT=0, NON_INJRY_CNT=1, UNKN_INJRY_CNT=0, TOT_INJRY_CNT=0, DEATH_CNT=0),\n",
              " Row(CRASH_ID=14838637, UNIT_NBR=3, UNIT_DESC_ID='TOWED/TRAILER', VEH_PARKED_FL=None, VEH_HNR_FL=None, VEH_LIC_STATE_ID='NA', VIN=None, VEH_MOD_YEAR='NA', VEH_COLOR_ID='NA', VEH_MAKE_ID='NA', VEH_MOD_ID='NA', VEH_BODY_STYL_ID='NA', EMER_RESPNDR_FL=None, OWNR_ZIP='78934', FIN_RESP_PROOF_ID='NA', FIN_RESP_TYPE_ID='NA', VEH_DMAG_AREA_1_ID='NA', VEH_DMAG_SCL_1_ID='NA', FORCE_DIR_1_ID='NA', VEH_DMAG_AREA_2_ID='NA', VEH_DMAG_SCL_2_ID='NA', FORCE_DIR_2_ID='NA', VEH_INVENTORIED_FL=None, VEH_TRANSP_NAME=None, VEH_TRANSP_DEST=None, CONTRIB_FACTR_1_ID='NONE', CONTRIB_FACTR_2_ID='NA', CONTRIB_FACTR_P1_ID='NA', VEH_TRVL_DIR_ID='NOT APPLICABLE', FIRST_HARM_EVT_INV_ID='N', INCAP_INJRY_CNT=0, NONINCAP_INJRY_CNT=0, POSS_INJRY_CNT=0, NON_INJRY_CNT=0, UNKN_INJRY_CNT=0, TOT_INJRY_CNT=0, DEATH_CNT=0)]"
            ]
          },
          "metadata": {},
          "execution_count": 65
        }
      ]
    },
    {
      "cell_type": "code",
      "source": [
        "units_df.describe().show(truncate=False)"
      ],
      "metadata": {
        "colab": {
          "base_uri": "https://localhost:8080/"
        },
        "id": "vO_wCnvH01Nf",
        "outputId": "04ced11b-3d96-4bd5-ff2d-6e9798bd75c6"
      },
      "execution_count": 66,
      "outputs": [
        {
          "output_type": "stream",
          "name": "stdout",
          "text": [
            "+-------+--------------------+------------------+-------------+-------------+----------+----------------+---------------------+-----------------+-------------------+-----------+-----------------+-----------------+---------------+-------------------+------------------+---------------------------------------+--------------------------------------+-----------------+-----------------+--------------------------------------+-----------------+-----------------+------------------+-------------------------+----------------------------+------------------------+------------------------+------------------------+---------------+---------------------+--------------------+-------------------+-------------------+------------------+--------------------+-------------------+---------------------+\n",
            "|summary|CRASH_ID            |UNIT_NBR          |UNIT_DESC_ID |VEH_PARKED_FL|VEH_HNR_FL|VEH_LIC_STATE_ID|VIN                  |VEH_MOD_YEAR     |VEH_COLOR_ID       |VEH_MAKE_ID|VEH_MOD_ID       |VEH_BODY_STYL_ID |EMER_RESPNDR_FL|OWNR_ZIP           |FIN_RESP_PROOF_ID |FIN_RESP_TYPE_ID                       |VEH_DMAG_AREA_1_ID                    |VEH_DMAG_SCL_1_ID|FORCE_DIR_1_ID   |VEH_DMAG_AREA_2_ID                    |VEH_DMAG_SCL_2_ID|FORCE_DIR_2_ID   |VEH_INVENTORIED_FL|VEH_TRANSP_NAME          |VEH_TRANSP_DEST             |CONTRIB_FACTR_1_ID      |CONTRIB_FACTR_2_ID      |CONTRIB_FACTR_P1_ID     |VEH_TRVL_DIR_ID|FIRST_HARM_EVT_INV_ID|INCAP_INJRY_CNT     |NONINCAP_INJRY_CNT |POSS_INJRY_CNT     |NON_INJRY_CNT     |UNKN_INJRY_CNT      |TOT_INJRY_CNT      |DEATH_CNT            |\n",
            "+-------+--------------------+------------------+-------------+-------------+----------+----------------+---------------------+-----------------+-------------------+-----------+-----------------+-----------------+---------------+-------------------+------------------+---------------------------------------+--------------------------------------+-----------------+-----------------+--------------------------------------+-----------------+-----------------+------------------+-------------------------+----------------------------+------------------------+------------------------+------------------------+---------------+---------------------+--------------------+-------------------+-------------------+------------------+--------------------+-------------------+---------------------+\n",
            "|count  |173499              |173499            |173499       |167763       |167763    |173499          |165800               |173499           |173499             |173499     |173499           |173499           |167763         |167461             |173499            |173499                                 |173499                                |173499           |173499           |173499                                |173499           |173499           |165291            |124908                   |117715                      |173499                  |173499                  |173499                  |173499         |173499               |173499              |173499             |173499             |173499            |173499              |173499             |173499               |\n",
            "|mean   |1.5133269605104351E7|1.6602689352676385|NULL         |NULL         |NULL      |98.0            |8.127373836313987E15 |2002.266186239134|98.9398951189996   |NULL       |307.6582472254114|NULL             |NULL           |849337.6489435566  |1.120088435129597 |NULL                                   |NULL                                  |NULL             |7.96572620056037 |NULL                                  |NULL             |7.591596688702281|NULL              |Infinity                 |Infinity                    |NULL                    |NULL                    |NULL                    |NULL           |NULL                 |0.018103850742655577|0.08299183280595278|0.14302099723917716|0.9113597196525628|0.019492907740102247|0.24411668078778553|0.0018040449800863405|\n",
            "|stddev |182792.17130048724  |0.8183119305491233|NULL         |NULL         |NULL      |0.0             |1.1997478930920714E16|4.462363860942333|0.23772900919392387|NULL       |241.2472645543705|NULL             |NULL           |2.388084014686965E7|0.3868565442642685|NULL                                   |NULL                                  |NULL             |4.550375009143734|NULL                                  |NULL             |4.890321278603413|NULL              |NaN                      |NaN                         |NULL                    |NULL                    |NULL                    |NULL           |NULL                 |0.14256150808416201 |0.31254459940122514|0.44555747561615144|1.131544968973929 |0.15202990021786544 |0.5484233815294638 |0.04608222078428291  |\n",
            "|min    |13403990            |1                 |MOTOR VEHICLE|N            |N         |98              |0                    |1917             |98                 |ACURA      |024 DE TOMASO    |AMBULANCE        |N              |,7605              |1                 |CERTIFICATE OF DEPOSIT WITH COMPTROLLER|BACK END (LEFT) DAMAGE PARTIAL CONTACT|DAMAGED 1 MINIMUM|1                |BACK END (LEFT) DAMAGE PARTIAL CONTACT|DAMAGED 1 MINIMUM|1                |N                 |\"\"\"OFF THE HOOK\"\" TOWING\"|!513 MIDCITIS PHARR TX 78577|ANIMAL ON ROAD- DOMESTIC|ANIMAL ON ROAD- DOMESTIC|ANIMAL ON ROAD- DOMESTIC|EAST           |N                    |0                   |0                  |0                  |0                 |0                   |0                  |0                    |\n",
            "|max    |15738225            |19                |TRAIN        |Y            |Y         |WY              |ZT1BU4EEZAC322025    |NA               |YEL                |YAMAHA     |ZEPHYR           |YELLOW SCHOOL BUS|Y              |unknown            |NR                |SURETY BOND                            |VEHICLE BURNED                        |NO DAMAGE        |NA               |VEHICLE BURNED                        |NO DAMAGE        |NA               |Y                 |`JC TOWING & RECOVERY    |`NOT NEEDED                 |WRONG WAY - ONE WAY ROAD|WRONG WAY - ONE WAY ROAD|WRONG WAY - ONE WAY ROAD|WEST           |Y                    |6                   |10                 |29                 |73                |6                   |31                 |4                    |\n",
            "+-------+--------------------+------------------+-------------+-------------+----------+----------------+---------------------+-----------------+-------------------+-----------+-----------------+-----------------+---------------+-------------------+------------------+---------------------------------------+--------------------------------------+-----------------+-----------------+--------------------------------------+-----------------+-----------------+------------------+-------------------------+----------------------------+------------------------+------------------------+------------------------+---------------+---------------------+--------------------+-------------------+-------------------+------------------+--------------------+-------------------+---------------------+\n",
            "\n"
          ]
        }
      ]
    },
    {
      "cell_type": "code",
      "source": [
        "null_counts = units_df.agg(*[\n",
        "    (sum(col(column).isNull().cast(\"int\")).alias(column + \"_null_count\"))\n",
        "    for column in units_df.columns\n",
        "])\n",
        "null_counts.show(truncate=False)"
      ],
      "metadata": {
        "colab": {
          "base_uri": "https://localhost:8080/"
        },
        "id": "vl0Z2a4A14sq",
        "outputId": "1d508514-7843-46bb-8fda-561c5dc878d9"
      },
      "execution_count": 67,
      "outputs": [
        {
          "output_type": "stream",
          "name": "stdout",
          "text": [
            "+-------------------+-------------------+-----------------------+------------------------+---------------------+---------------------------+--------------+-----------------------+-----------------------+----------------------+---------------------+---------------------------+--------------------------+-------------------+----------------------------+---------------------------+-----------------------------+----------------------------+-------------------------+-----------------------------+----------------------------+-------------------------+-----------------------------+--------------------------+--------------------------+-----------------------------+-----------------------------+------------------------------+--------------------------+--------------------------------+--------------------------+-----------------------------+-------------------------+------------------------+-------------------------+------------------------+--------------------+\n",
            "|CRASH_ID_null_count|UNIT_NBR_null_count|UNIT_DESC_ID_null_count|VEH_PARKED_FL_null_count|VEH_HNR_FL_null_count|VEH_LIC_STATE_ID_null_count|VIN_null_count|VEH_MOD_YEAR_null_count|VEH_COLOR_ID_null_count|VEH_MAKE_ID_null_count|VEH_MOD_ID_null_count|VEH_BODY_STYL_ID_null_count|EMER_RESPNDR_FL_null_count|OWNR_ZIP_null_count|FIN_RESP_PROOF_ID_null_count|FIN_RESP_TYPE_ID_null_count|VEH_DMAG_AREA_1_ID_null_count|VEH_DMAG_SCL_1_ID_null_count|FORCE_DIR_1_ID_null_count|VEH_DMAG_AREA_2_ID_null_count|VEH_DMAG_SCL_2_ID_null_count|FORCE_DIR_2_ID_null_count|VEH_INVENTORIED_FL_null_count|VEH_TRANSP_NAME_null_count|VEH_TRANSP_DEST_null_count|CONTRIB_FACTR_1_ID_null_count|CONTRIB_FACTR_2_ID_null_count|CONTRIB_FACTR_P1_ID_null_count|VEH_TRVL_DIR_ID_null_count|FIRST_HARM_EVT_INV_ID_null_count|INCAP_INJRY_CNT_null_count|NONINCAP_INJRY_CNT_null_count|POSS_INJRY_CNT_null_count|NON_INJRY_CNT_null_count|UNKN_INJRY_CNT_null_count|TOT_INJRY_CNT_null_count|DEATH_CNT_null_count|\n",
            "+-------------------+-------------------+-----------------------+------------------------+---------------------+---------------------------+--------------+-----------------------+-----------------------+----------------------+---------------------+---------------------------+--------------------------+-------------------+----------------------------+---------------------------+-----------------------------+----------------------------+-------------------------+-----------------------------+----------------------------+-------------------------+-----------------------------+--------------------------+--------------------------+-----------------------------+-----------------------------+------------------------------+--------------------------+--------------------------------+--------------------------+-----------------------------+-------------------------+------------------------+-------------------------+------------------------+--------------------+\n",
            "|0                  |0                  |0                      |5736                    |5736                 |0                          |7699          |0                      |0                      |0                     |0                    |0                          |5736                      |6038               |0                           |0                          |0                            |0                           |0                        |0                            |0                           |0                        |8208                         |48591                     |55784                     |0                            |0                            |0                             |0                         |0                               |0                         |0                            |0                        |0                       |0                        |0                       |0                   |\n",
            "+-------------------+-------------------+-----------------------+------------------------+---------------------+---------------------------+--------------+-----------------------+-----------------------+----------------------+---------------------+---------------------------+--------------------------+-------------------+----------------------------+---------------------------+-----------------------------+----------------------------+-------------------------+-----------------------------+----------------------------+-------------------------+-----------------------------+--------------------------+--------------------------+-----------------------------+-----------------------------+------------------------------+--------------------------+--------------------------------+--------------------------+-----------------------------+-------------------------+------------------------+-------------------------+------------------------+--------------------+\n",
            "\n"
          ]
        }
      ]
    },
    {
      "cell_type": "code",
      "source": [
        "units_df.select(\"VEH_COLOR_ID\").distinct().show(100, truncate = False)"
      ],
      "metadata": {
        "colab": {
          "base_uri": "https://localhost:8080/"
        },
        "id": "8Vw3_nXoPWef",
        "outputId": "3a5ac611-641d-45ee-cfd6-4f6d7a0317c1"
      },
      "execution_count": 80,
      "outputs": [
        {
          "output_type": "stream",
          "name": "stdout",
          "text": [
            "+------------+\n",
            "|VEH_COLOR_ID|\n",
            "+------------+\n",
            "|RED         |\n",
            "|TEA         |\n",
            "|BLK         |\n",
            "|ONG         |\n",
            "|YEL         |\n",
            "|GLD         |\n",
            "|NA          |\n",
            "|98          |\n",
            "|99          |\n",
            "|CAM         |\n",
            "|BRZ         |\n",
            "|TRQ         |\n",
            "|SIL         |\n",
            "|CPR         |\n",
            "|BRO         |\n",
            "|PLE         |\n",
            "|BLU         |\n",
            "|MAR         |\n",
            "|BGE         |\n",
            "|PNK         |\n",
            "|WHI         |\n",
            "|TAN         |\n",
            "|MUL         |\n",
            "|GRN         |\n",
            "|GRY         |\n",
            "+------------+\n",
            "\n"
          ]
        }
      ]
    },
    {
      "cell_type": "code",
      "source": [
        "units_df.groupby(\"VEH_MAKE_ID\").count().orderBy(col(\"count\").desc()).show()"
      ],
      "metadata": {
        "colab": {
          "base_uri": "https://localhost:8080/"
        },
        "id": "AcBIkEEkPgPA",
        "outputId": "d8003980-409f-4bbb-e901-bb701df988e0"
      },
      "execution_count": 81,
      "outputs": [
        {
          "output_type": "stream",
          "name": "stdout",
          "text": [
            "+------------+-----+\n",
            "| VEH_MAKE_ID|count|\n",
            "+------------+-----+\n",
            "|        FORD|29792|\n",
            "|   CHEVROLET|28073|\n",
            "|      TOYOTA|16487|\n",
            "|       DODGE|13091|\n",
            "|      NISSAN|10964|\n",
            "|       HONDA|10460|\n",
            "|          NA| 6234|\n",
            "|         GMC| 5044|\n",
            "|        JEEP| 4170|\n",
            "|     HYUNDAI| 3859|\n",
            "|         KIA| 3186|\n",
            "|    CHRYSLER| 3144|\n",
            "|FREIGHTLINER| 2861|\n",
            "|       MAZDA| 2585|\n",
            "|     PONTIAC| 2144|\n",
            "|  VOLKSWAGEN| 2141|\n",
            "|       LEXUS| 2087|\n",
            "|       BUICK| 1965|\n",
            "|    CADILLAC| 1796|\n",
            "|  MITSUBISHI| 1756|\n",
            "+------------+-----+\n",
            "only showing top 20 rows\n",
            "\n"
          ]
        }
      ]
    },
    {
      "cell_type": "code",
      "source": [
        "units_df.filter(col(\"VEH_LIC_STATE_ID\").cast(\"int\").isNull()).groupby(\"VEH_LIC_STATE_ID\").count().orderBy(col(\"count\").desc()).show(100)\n"
      ],
      "metadata": {
        "colab": {
          "base_uri": "https://localhost:8080/"
        },
        "id": "CYJms1nvPuCb",
        "outputId": "b80d52c2-d0e5-4686-a119-972a2ad045a4"
      },
      "execution_count": 82,
      "outputs": [
        {
          "output_type": "stream",
          "name": "stdout",
          "text": [
            "+----------------+------+\n",
            "|VEH_LIC_STATE_ID| count|\n",
            "+----------------+------+\n",
            "|              TX|156997|\n",
            "|              NA|  6065|\n",
            "|              UN|  1791|\n",
            "|              OK|   970|\n",
            "|              LA|   782|\n",
            "|              NM|   731|\n",
            "|              IN|   544|\n",
            "|              MX|   493|\n",
            "|              CA|   482|\n",
            "|              FL|   416|\n",
            "|              IL|   370|\n",
            "|              AR|   350|\n",
            "|              TN|   304|\n",
            "|              MS|   244|\n",
            "|              AZ|   236|\n",
            "|              KS|   186|\n",
            "|              MO|   177|\n",
            "|              GA|   177|\n",
            "|              CO|   175|\n",
            "|              NC|   159|\n",
            "|              AL|   145|\n",
            "|              OH|   127|\n",
            "|              MI|   122|\n",
            "|              MN|   113|\n",
            "|              WI|   101|\n",
            "|              VA|    98|\n",
            "|              NE|    88|\n",
            "|              WA|    85|\n",
            "|              IA|    79|\n",
            "|              UT|    75|\n",
            "|              OR|    71|\n",
            "|              PA|    70|\n",
            "|              SC|    63|\n",
            "|              CD|    57|\n",
            "|              NY|    50|\n",
            "|              KY|    45|\n",
            "|              NV|    41|\n",
            "|              MD|    40|\n",
            "|              NJ|    34|\n",
            "|              MT|    31|\n",
            "|              ID|    28|\n",
            "|              ND|    26|\n",
            "|              CT|    21|\n",
            "|              SD|    20|\n",
            "|              WY|    19|\n",
            "|              AK|    16|\n",
            "|              MA|    11|\n",
            "|              WV|    10|\n",
            "|              AS|    10|\n",
            "|              NH|     8|\n",
            "|              ME|     7|\n",
            "|              US|     7|\n",
            "|              RI|     6|\n",
            "|              VT|     5|\n",
            "|              HI|     5|\n",
            "|              DE|     4|\n",
            "|              DS|     2|\n",
            "|              DC|     1|\n",
            "+----------------+------+\n",
            "\n"
          ]
        }
      ]
    },
    {
      "cell_type": "markdown",
      "source": [
        "Analysing damages_df"
      ],
      "metadata": {
        "id": "nVsI0a402gHL"
      }
    },
    {
      "cell_type": "code",
      "source": [
        "#rows and columns in dataframe\n",
        "num_rows = damages_df.count()\n",
        "num_columns = len(damages_df.columns)\n",
        "\n",
        "print(f\"Number of Rows: {num_rows}\")\n",
        "print(f\"Number of Columns: {num_columns}\")"
      ],
      "metadata": {
        "colab": {
          "base_uri": "https://localhost:8080/"
        },
        "id": "zbKMxk7m2eRU",
        "outputId": "e4f98982-c5a3-4bf3-b2dd-969ce9c9a550"
      },
      "execution_count": 68,
      "outputs": [
        {
          "output_type": "stream",
          "name": "stdout",
          "text": [
            "Number of Rows: 24950\n",
            "Number of Columns: 2\n"
          ]
        }
      ]
    },
    {
      "cell_type": "code",
      "source": [
        "damages_df.columns"
      ],
      "metadata": {
        "colab": {
          "base_uri": "https://localhost:8080/"
        },
        "id": "4ukcTl9y2eTY",
        "outputId": "2e2bc67b-4c1a-4817-d16c-2530b58d2ead"
      },
      "execution_count": 69,
      "outputs": [
        {
          "output_type": "execute_result",
          "data": {
            "text/plain": [
              "['CRASH_ID', 'DAMAGED_PROPERTY']"
            ]
          },
          "metadata": {},
          "execution_count": 69
        }
      ]
    },
    {
      "cell_type": "code",
      "source": [
        "damages_df.printSchema()"
      ],
      "metadata": {
        "colab": {
          "base_uri": "https://localhost:8080/"
        },
        "id": "ySSBoSEi2esB",
        "outputId": "163fa0e8-4046-47f9-8c75-39d4d9e0c002"
      },
      "execution_count": 70,
      "outputs": [
        {
          "output_type": "stream",
          "name": "stdout",
          "text": [
            "root\n",
            " |-- CRASH_ID: integer (nullable = true)\n",
            " |-- DAMAGED_PROPERTY: string (nullable = true)\n",
            "\n"
          ]
        }
      ]
    },
    {
      "cell_type": "code",
      "source": [
        "damages_df.head(5)"
      ],
      "metadata": {
        "colab": {
          "base_uri": "https://localhost:8080/"
        },
        "id": "EZhgle2i2e5j",
        "outputId": "023cacd4-ff94-44f5-ebf0-609e5f1c4d17"
      },
      "execution_count": 71,
      "outputs": [
        {
          "output_type": "execute_result",
          "data": {
            "text/plain": [
              "[Row(CRASH_ID=14768622, DAMAGED_PROPERTY='MAILBOX'),\n",
              " Row(CRASH_ID=14768622, DAMAGED_PROPERTY='YARD, GRASS'),\n",
              " Row(CRASH_ID=14838668, DAMAGED_PROPERTY='GUARDRAIL'),\n",
              " Row(CRASH_ID=14838685, DAMAGED_PROPERTY='ROAD SIGN'),\n",
              " Row(CRASH_ID=14838693, DAMAGED_PROPERTY='2009 MAZDA 3')]"
            ]
          },
          "metadata": {},
          "execution_count": 71
        }
      ]
    },
    {
      "cell_type": "code",
      "source": [
        "damages_df.describe().show(truncate=False)"
      ],
      "metadata": {
        "colab": {
          "base_uri": "https://localhost:8080/"
        },
        "id": "kMKUKmJz2fDc",
        "outputId": "71d0220f-236c-41ed-faf2-800794c1ddc5"
      },
      "execution_count": 72,
      "outputs": [
        {
          "output_type": "stream",
          "name": "stdout",
          "text": [
            "+-------+--------------------+---------------------------+\n",
            "|summary|CRASH_ID            |DAMAGED_PROPERTY           |\n",
            "+-------+--------------------+---------------------------+\n",
            "|count  |24950               |24944                      |\n",
            "|mean   |1.5172638111623246E7|1303475.0                  |\n",
            "|stddev |194882.21908891975  |NULL                       |\n",
            "|min    |13403990            |\"\"\"BUS STOP AHEAD\"\" SIGN\"  |\n",
            "|max    |15717920            |YOUR STORAGE PLACE BUILDING|\n",
            "+-------+--------------------+---------------------------+\n",
            "\n"
          ]
        }
      ]
    },
    {
      "cell_type": "code",
      "source": [
        "null_counts = damages_df.agg(*[\n",
        "    (sum(col(column).isNull().cast(\"int\")).alias(column + \"_null_count\"))\n",
        "    for column in damages_df.columns\n",
        "])\n",
        "null_counts.show(truncate=False)"
      ],
      "metadata": {
        "colab": {
          "base_uri": "https://localhost:8080/"
        },
        "id": "ROcV9AR_3cOK",
        "outputId": "5c0e8f7a-6716-4a47-98b3-1fac44f566c6"
      },
      "execution_count": 73,
      "outputs": [
        {
          "output_type": "stream",
          "name": "stdout",
          "text": [
            "+-------------------+---------------------------+\n",
            "|CRASH_ID_null_count|DAMAGED_PROPERTY_null_count|\n",
            "+-------------------+---------------------------+\n",
            "|0                  |6                          |\n",
            "+-------------------+---------------------------+\n",
            "\n"
          ]
        }
      ]
    },
    {
      "cell_type": "markdown",
      "source": [
        "Analysing restrict_df"
      ],
      "metadata": {
        "id": "tukD3jxm4A9l"
      }
    },
    {
      "cell_type": "code",
      "source": [
        "#rows and columns in dataframe\n",
        "num_rows = restrict_df.count()\n",
        "num_columns = len(restrict_df.columns)\n",
        "\n",
        "print(f\"Number of Rows: {num_rows}\")\n",
        "print(f\"Number of Columns: {num_columns}\")"
      ],
      "metadata": {
        "colab": {
          "base_uri": "https://localhost:8080/"
        },
        "id": "uYdrAmEt3-77",
        "outputId": "eea256fe-b328-4fcd-e0d2-b78a99159e11"
      },
      "execution_count": 74,
      "outputs": [
        {
          "output_type": "stream",
          "name": "stdout",
          "text": [
            "Number of Rows: 159852\n",
            "Number of Columns: 3\n"
          ]
        }
      ]
    },
    {
      "cell_type": "code",
      "source": [
        "restrict_df.columns"
      ],
      "metadata": {
        "colab": {
          "base_uri": "https://localhost:8080/"
        },
        "id": "h3nRnWO33-9w",
        "outputId": "fe9b838e-06ba-432e-e29d-b8b542cc736f"
      },
      "execution_count": 75,
      "outputs": [
        {
          "output_type": "execute_result",
          "data": {
            "text/plain": [
              "['CRASH_ID', 'UNIT_NBR', 'DRVR_LIC_RESTRIC_ID']"
            ]
          },
          "metadata": {},
          "execution_count": 75
        }
      ]
    },
    {
      "cell_type": "code",
      "source": [
        "restrict_df.printSchema()"
      ],
      "metadata": {
        "colab": {
          "base_uri": "https://localhost:8080/"
        },
        "id": "0dI0K-BU3_Rs",
        "outputId": "043e5a83-2b9d-463a-d211-553489c92c8b"
      },
      "execution_count": 76,
      "outputs": [
        {
          "output_type": "stream",
          "name": "stdout",
          "text": [
            "root\n",
            " |-- CRASH_ID: integer (nullable = true)\n",
            " |-- UNIT_NBR: integer (nullable = true)\n",
            " |-- DRVR_LIC_RESTRIC_ID: string (nullable = true)\n",
            "\n"
          ]
        }
      ]
    },
    {
      "cell_type": "code",
      "source": [
        "restrict_df.head(5)"
      ],
      "metadata": {
        "colab": {
          "base_uri": "https://localhost:8080/"
        },
        "id": "s0vnAD_h3_gM",
        "outputId": "a3de22af-3b1d-46ed-dd98-9a71b951f4aa"
      },
      "execution_count": 77,
      "outputs": [
        {
          "output_type": "execute_result",
          "data": {
            "text/plain": [
              "[Row(CRASH_ID=14768622, UNIT_NBR=1, DRVR_LIC_RESTRIC_ID='NONE'),\n",
              " Row(CRASH_ID=14838637, UNIT_NBR=1, DRVR_LIC_RESTRIC_ID='OTHER/OUT OF STATE'),\n",
              " Row(CRASH_ID=14838637, UNIT_NBR=2, DRVR_LIC_RESTRIC_ID='NONE'),\n",
              " Row(CRASH_ID=14838641, UNIT_NBR=1, DRVR_LIC_RESTRIC_ID='WITH CORRECTIVE LENSES'),\n",
              " Row(CRASH_ID=14838641, UNIT_NBR=2, DRVR_LIC_RESTRIC_ID='UNLICENSED')]"
            ]
          },
          "metadata": {},
          "execution_count": 77
        }
      ]
    },
    {
      "cell_type": "code",
      "source": [
        "restrict_df.describe().show(truncate=False)"
      ],
      "metadata": {
        "colab": {
          "base_uri": "https://localhost:8080/"
        },
        "id": "ebEYEFOg3_tJ",
        "outputId": "35ad1d1e-7bc6-4fa5-a3de-2eb6458a8fee"
      },
      "execution_count": 78,
      "outputs": [
        {
          "output_type": "stream",
          "name": "stdout",
          "text": [
            "+-------+--------------------+------------------+-----------------------------+\n",
            "|summary|CRASH_ID            |UNIT_NBR          |DRVR_LIC_RESTRIC_ID          |\n",
            "+-------+--------------------+------------------+-----------------------------+\n",
            "|count  |159852              |159852            |159852                       |\n",
            "|mean   |1.5131566613286039E7|1.5918975051923028|NULL                         |\n",
            "|stddev |182427.6014999234   |0.768452230763807 |NULL                         |\n",
            "|min    |13403990            |1                 |APPLICABLE PROSTHETIC DEVICES|\n",
            "|max    |15738225            |14                |WITH TELESCOPIC LENS         |\n",
            "+-------+--------------------+------------------+-----------------------------+\n",
            "\n"
          ]
        }
      ]
    },
    {
      "cell_type": "code",
      "source": [
        "null_counts = restrict_df.agg(*[\n",
        "    (sum(col(column).isNull().cast(\"int\")).alias(column + \"_null_count\"))\n",
        "    for column in restrict_df.columns\n",
        "])\n",
        "null_counts.show(truncate=False)"
      ],
      "metadata": {
        "colab": {
          "base_uri": "https://localhost:8080/"
        },
        "id": "6nnPLuOG4x4Q",
        "outputId": "fab315a6-e2dc-4e9a-d0fa-d6546c19ccb4"
      },
      "execution_count": 79,
      "outputs": [
        {
          "output_type": "stream",
          "name": "stdout",
          "text": [
            "+-------------------+-------------------+------------------------------+\n",
            "|CRASH_ID_null_count|UNIT_NBR_null_count|DRVR_LIC_RESTRIC_ID_null_count|\n",
            "+-------------------+-------------------+------------------------------+\n",
            "|0                  |0                  |0                             |\n",
            "+-------------------+-------------------+------------------------------+\n",
            "\n"
          ]
        }
      ]
    }
  ]
}